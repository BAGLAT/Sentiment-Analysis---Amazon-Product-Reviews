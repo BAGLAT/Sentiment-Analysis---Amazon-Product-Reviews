{
 "cells": [
  {
   "cell_type": "code",
   "execution_count": null,
   "metadata": {},
   "outputs": [],
   "source": [
    "import pandas as pd\n",
    "import nltk\n",
    "from nltk.tokenize import word_tokenize, sent_tokenize \n",
    "from nltk import pos_tag\n",
    "from nltk.corpus import stopwords\n",
    "from sklearn.feature_extraction.text import TfidfVectorizer, CountVectorizer\n",
    "from sklearn.model_selection import train_test_split\n",
    "import re\n",
    "from contractions import contractions_dict\n",
    "from string import punctuation\n",
    "import warnings\n",
    "warnings.filterwarnings(\"ignore\")\n",
    "pd.set_option('display.max_colwidth', -1)"
   ]
  },
  {
   "cell_type": "markdown",
   "metadata": {},
   "source": [
    "## Create Amazon Customer Reviews DataFrame from JSON objects"
   ]
  },
  {
   "cell_type": "code",
   "execution_count": null,
   "metadata": {},
   "outputs": [],
   "source": [
    "import pandas as pd\n",
    "import gzip\n",
    "import json\n",
    "\n",
    "def parse(path):\n",
    "  g = gzip.open(path, 'rb')\n",
    "  for l in g:\n",
    "    yield json.loads(l)\n",
    "\n",
    "def getDF(path):\n",
    "  i = 0\n",
    "  df = {}\n",
    "  for d in parse(path):\n",
    "    df[i] = d\n",
    "    i += 1\n",
    "  return pd.DataFrame.from_dict(df, orient='index')\n",
    "\n",
    "df = getDF('Cell_Phones_and_Accessories_5.json.gz')\n",
    "\n",
    "df.head()"
   ]
  },
  {
   "cell_type": "code",
   "execution_count": null,
   "metadata": {},
   "outputs": [],
   "source": [
    "df = df.dropna(subset = ['reviewText','summary'])\n",
    "df.isna().sum()"
   ]
  },
  {
   "cell_type": "code",
   "execution_count": 4,
   "metadata": {
    "scrolled": true
   },
   "outputs": [
    {
     "name": "stdout",
     "output_type": "stream",
     "text": [
      "5.0    706102\n",
      "4.0    184293\n",
      "3.0    98189 \n",
      "1.0    81469 \n",
      "2.0    57153 \n",
      "Name: overall, dtype: int64\n"
     ]
    },
    {
     "data": {
      "text/plain": [
       "5.0    62.641789\n",
       "4.0    16.349540\n",
       "3.0    8.710830 \n",
       "1.0    7.227517 \n",
       "2.0    5.070324 \n",
       "Name: overall, dtype: float64"
      ]
     },
     "execution_count": 4,
     "metadata": {},
     "output_type": "execute_result"
    }
   ],
   "source": [
    "print(df['overall'].value_counts())\n",
    "df['overall'].value_counts(normalize=True) * 100"
   ]
  },
  {
   "cell_type": "markdown",
   "metadata": {},
   "source": [
    "## Separate positive and negative reviews for analysis"
   ]
  },
  {
   "cell_type": "code",
   "execution_count": null,
   "metadata": {},
   "outputs": [],
   "source": [
    "df_negative_reviews = df[df['overall']<3].iloc[:100000]\n",
    "df_positive_reviews = df[df['overall']>3].iloc[:200000]"
   ]
  },
  {
   "cell_type": "code",
   "execution_count": null,
   "metadata": {},
   "outputs": [],
   "source": [
    "df_new = df.iloc[:100]\n",
    "df_new.head()"
   ]
  },
  {
   "cell_type": "markdown",
   "metadata": {},
   "source": [
    "## Review Text PreProcssing Function Definitions"
   ]
  },
  {
   "cell_type": "code",
   "execution_count": 5,
   "metadata": {},
   "outputs": [],
   "source": [
    "def expand_contractions(text, contractions_dict):\n",
    "    contractions_pattern = re.compile('({})'.format('|'.join(contractions_dict.keys())),\n",
    "                                      flags=re.IGNORECASE | re.DOTALL)\n",
    "\n",
    "    def expand_match(contraction):\n",
    "        match = contraction.group(0)\n",
    "        first_char = match[0]\n",
    "        expanded_contraction = contractions_dict.get(match) \\\n",
    "            if contractions_dict.get(match) \\\n",
    "            else contractions_dict.get(match.lower())\n",
    "        expanded_contraction = expanded_contraction\n",
    "        return expanded_contraction\n",
    "\n",
    "    expanded_text = contractions_pattern.sub(expand_match, text)\n",
    "    expanded_text = re.sub(\"'\", \"\", expanded_text)\n",
    "    return expanded_text\n",
    "\n",
    "\n",
    "\n",
    "def strip_punctuation(s):\n",
    "    return ''.join(c for c in s if c not in punctuation)"
   ]
  },
  {
   "cell_type": "code",
   "execution_count": 6,
   "metadata": {},
   "outputs": [],
   "source": [
    "from nltk.tokenize import RegexpTokenizer\n",
    "def cleanme(txt):\n",
    "    sent = txt.lower()\n",
    "    sent_expanded_contractions = expand_contractions(sent,contractions_dict)\n",
    "    sent_expanded_contractions = re.sub(r'(?<=[.,])(?=[^\\s])', r' ', sent_expanded_contractions)\n",
    "    sent_without_punct = strip_punctuation(sent_expanded_contractions)\n",
    "    sent_without_digits=re.sub('[0-9]+', '', sent_without_punct)\n",
    "    \n",
    "    TOKENIZER = RegexpTokenizer('(?u)\\W+|\\$[\\d\\.]+|\\S+')\n",
    "#     wrds = TOKENIZER.tokenize(sent_without_punct)\n",
    "    wrds = word_tokenize(sent_without_digits)\n",
    "    to_remove = ['no', 'not']\n",
    "    new_stopwords = set(stopwords.words('english')).difference(to_remove)\n",
    "    clwrds = [w for w in wrds if not w in new_stopwords]\n",
    "    ln = len(clwrds)\n",
    "    if ln>0:\n",
    "        pos = pd.DataFrame(pos_tag(wrds))\n",
    "        pos = (\" \".join(list(pos[pos[1].str.contains(\"JJ\")].iloc[:,0]))).split(\" \")\n",
    "        l2 = [\"i\",\"you\",\"me\"]\n",
    "        pos = [x for x in pos if x not in l2]\n",
    "    else:\n",
    "        pos = [\"\"]\n",
    "    rt = [ln, \" \".join(clwrds), \" \".join(pos)]\n",
    "    return(rt)"
   ]
  },
  {
   "cell_type": "markdown",
   "metadata": {},
   "source": [
    "## Create Negative Reviews WordCloud"
   ]
  },
  {
   "cell_type": "code",
   "execution_count": null,
   "metadata": {
    "scrolled": true
   },
   "outputs": [],
   "source": [
    "tmp = list()\n",
    "for i in range(100000):\n",
    "    tmp.append(cleanme(df_negative_reviews.iloc[i,:]['reviewText']))\n",
    "tmp = pd.DataFrame(tmp)\n",
    "tmp.columns = ['reviewlen', 'cleanrev', 'adjreview']\n",
    "\n",
    "(tmp.head())\n",
    "\n",
    "\n",
    "df_negative_reviews_new = df_negative_reviews.reset_index()\n",
    "# df_negative_reviews_new.drop(['reviewlen', 'cleanrev', 'adjreview'], axis=1, inplace=True)\n",
    "df_negative_reviews_new = pd.concat([df_negative_reviews_new,tmp], axis=1)\n",
    "df_negative_reviews_new = df_negative_reviews_new[['overall','reviewText','summary','reviewlen', 'cleanrev', 'adjreview']]\n",
    "df_negative_reviews_new.head()"
   ]
  },
  {
   "cell_type": "code",
   "execution_count": null,
   "metadata": {
    "scrolled": true
   },
   "outputs": [],
   "source": [
    "from nltk.stem import WordNetLemmatizer\n",
    "from nltk.stem import SnowballStemmer\n",
    "\n",
    "wordnet_lemmatizer = WordNetLemmatizer()\n",
    "snowball_stemmer = SnowballStemmer('english')\n",
    "\n",
    "txt = df_negative_reviews_new.cleanrev.str.lower().str.replace(r'\\|', ' ').str.cat(sep=' ')\n",
    "words = nltk.tokenize.word_tokenize(txt)\n",
    "lemmatized_word = [wordnet_lemmatizer.lemmatize(word) for word in words]\n",
    "# stemmed_word = [snowball_stemmer.stem(word) for word in words]\n",
    "bgs = nltk.trigrams(lemmatized_word)\n",
    "\n",
    "#compute frequency distribution for all the bigrams in the text\n",
    "fdist = nltk.FreqDist(bgs)\n",
    "fdist.most_common(40)"
   ]
  },
  {
   "cell_type": "code",
   "execution_count": null,
   "metadata": {},
   "outputs": [],
   "source": [
    "d = {}\n",
    "for key, value in fdist.items() :\n",
    "#     print (\"_\".join(key), value)\n",
    "    d[\"_\".join(key)] = value"
   ]
  },
  {
   "cell_type": "code",
   "execution_count": null,
   "metadata": {
    "scrolled": false
   },
   "outputs": [],
   "source": [
    "from wordcloud import WordCloud, STOPWORDS, ImageColorGenerator\n",
    "import matplotlib.pyplot as plt\n",
    "WC_height = 200\n",
    "WC_width = 400\n",
    "WC_max_words = 50\n",
    "wordcloud = WordCloud(max_words=WC_max_words, height=WC_height, width=WC_width, background_color=\"white\")\n",
    "wordcloud.generate_from_frequencies(frequencies=d)\n",
    "plt.figure()\n",
    "plt.imshow(wordcloud, interpolation=\"bilinear\")\n",
    "plt.axis(\"off\")\n",
    "plt.show()\n",
    "wordcloud.to_file(\"WordCloud_Bigrams_frequent_words.png\")"
   ]
  },
  {
   "cell_type": "markdown",
   "metadata": {},
   "source": [
    "## Create Positive Reviews WordCloud"
   ]
  },
  {
   "cell_type": "code",
   "execution_count": null,
   "metadata": {},
   "outputs": [],
   "source": [
    "tmp = list()\n",
    "for i in range(150000):\n",
    "    tmp.append(cleanme(df_positive_reviews.iloc[i,:]['reviewText']))\n",
    "tmp = pd.DataFrame(tmp)\n",
    "tmp.columns = ['reviewlen', 'cleanrev', 'adjreview']\n",
    "\n",
    "(tmp.head())\n",
    "\n",
    "\n",
    "df_positive_reviews_new = df_positive_reviews.reset_index()\n",
    "df_positive_reviews_new = pd.concat([df_positive_reviews_new,tmp], axis=1)\n",
    "df_positive_reviews_new = df_positive_reviews_new[['overall','reviewText','summary','reviewlen', 'cleanrev', 'adjreview']]\n",
    "df_positive_reviews_new.head()"
   ]
  },
  {
   "cell_type": "code",
   "execution_count": null,
   "metadata": {},
   "outputs": [],
   "source": [
    "from nltk.stem import WordNetLemmatizer\n",
    "from nltk.stem import SnowballStemmer\n",
    "\n",
    "wordnet_lemmatizer = WordNetLemmatizer()\n",
    "snowball_stemmer = SnowballStemmer('english')\n",
    "\n",
    "txt = df_positive_reviews_new.cleanrev.str.lower().str.replace(r'\\|', ' ').str.cat(sep=' ')\n",
    "words = nltk.tokenize.word_tokenize(txt)\n",
    "lemmatized_word = [wordnet_lemmatizer.lemmatize(word) for word in words]\n",
    "# stemmed_word = [snowball_stemmer.stem(word) for word in words]\n",
    "\n",
    "bgs = nltk.trigrams(lemmatized_word)\n",
    "\n",
    "#compute frequency distribution for all the bigrams in the text\n",
    "fdist = nltk.FreqDist(bgs)\n",
    "fdist.most_common(30)"
   ]
  },
  {
   "cell_type": "code",
   "execution_count": null,
   "metadata": {},
   "outputs": [],
   "source": [
    "d = {}\n",
    "for key, value in fdist.items() :\n",
    "#     print (\"_\".join(key), value)\n",
    "    d[\"_\".join(key)] = value"
   ]
  },
  {
   "cell_type": "code",
   "execution_count": null,
   "metadata": {},
   "outputs": [],
   "source": [
    "from wordcloud import WordCloud, STOPWORDS, ImageColorGenerator\n",
    "import matplotlib.pyplot as plt\n",
    "WC_height = 200\n",
    "WC_width = 400\n",
    "WC_max_words = 50\n",
    "wordcloud = WordCloud(max_words=WC_max_words, height=WC_height, width=WC_width, background_color=\"white\")\n",
    "wordcloud.generate_from_frequencies(frequencies=d)\n",
    "plt.figure()\n",
    "plt.imshow(wordcloud, interpolation=\"bilinear\")\n",
    "plt.axis(\"off\")\n",
    "plt.show()\n",
    "wordcloud.to_file(\"WordCloud_Positive_Reviews.png\")"
   ]
  },
  {
   "cell_type": "markdown",
   "metadata": {},
   "source": [
    "## PreProcess 200K reviews to be used to build classification models"
   ]
  },
  {
   "cell_type": "code",
   "execution_count": 28,
   "metadata": {},
   "outputs": [
    {
     "data": {
      "text/html": [
       "<div>\n",
       "<style scoped>\n",
       "    .dataframe tbody tr th:only-of-type {\n",
       "        vertical-align: middle;\n",
       "    }\n",
       "\n",
       "    .dataframe tbody tr th {\n",
       "        vertical-align: top;\n",
       "    }\n",
       "\n",
       "    .dataframe thead th {\n",
       "        text-align: right;\n",
       "    }\n",
       "</style>\n",
       "<table border=\"1\" class=\"dataframe\">\n",
       "  <thead>\n",
       "    <tr style=\"text-align: right;\">\n",
       "      <th></th>\n",
       "      <th>overall</th>\n",
       "      <th>reviewText</th>\n",
       "      <th>summary</th>\n",
       "      <th>reviewlen</th>\n",
       "      <th>cleanrev</th>\n",
       "      <th>adjreview</th>\n",
       "    </tr>\n",
       "  </thead>\n",
       "  <tbody>\n",
       "    <tr>\n",
       "      <th>0</th>\n",
       "      <td>5.0</td>\n",
       "      <td>Looks even better in person. Be careful to not drop your phone so often because the rhinestones will fall off (duh). More of a decorative case than it is protective, but I will say that it fits perfectly and securely on my phone. Overall, very pleased with this purchase.</td>\n",
       "      <td>Can't stop won't stop looking at it</td>\n",
       "      <td>23</td>\n",
       "      <td>looks even better person careful not drop phone often rhinestones fall duh decorative case protective say fits perfectly securely phone overall pleased purchase</td>\n",
       "      <td>careful more decorative protective overall pleased</td>\n",
       "    </tr>\n",
       "    <tr>\n",
       "      <th>1</th>\n",
       "      <td>5.0</td>\n",
       "      <td>When you don't want to spend a whole lot of cash but want a great deal...this is the shop to buy from!</td>\n",
       "      <td>1</td>\n",
       "      <td>11</td>\n",
       "      <td>not want spend whole lot cash want great deal shop buy</td>\n",
       "      <td>whole great</td>\n",
       "    </tr>\n",
       "    <tr>\n",
       "      <th>2</th>\n",
       "      <td>3.0</td>\n",
       "      <td>so the case came on time, i love the design. I'm actually missing 2 studs but nothing too noticeable the studding is almost a bit sloppy around the bow, but once again not too noticeable. I haven't put in my phone yet so this is just what I've notice so far</td>\n",
       "      <td>Its okay</td>\n",
       "      <td>24</td>\n",
       "      <td>case came time love design actually missing studs nothing noticeable studding almost bit sloppy around bow not noticeable not put phone yet notice far</td>\n",
       "      <td>noticeable sloppy noticeable</td>\n",
       "    </tr>\n",
       "    <tr>\n",
       "      <th>3</th>\n",
       "      <td>2.0</td>\n",
       "      <td>DON'T CARE FOR IT.  GAVE IT AS A GIFT AND THEY WERE OKAY WITH IT.  JUST NOT WHAT I EXPECTED.</td>\n",
       "      <td>CASE</td>\n",
       "      <td>7</td>\n",
       "      <td>not care gave gift okay not expected</td>\n",
       "      <td></td>\n",
       "    </tr>\n",
       "    <tr>\n",
       "      <th>4</th>\n",
       "      <td>4.0</td>\n",
       "      <td>I liked it because it was cute, but the studs fall off easily and to protect a phone this would not be recommended. Buy if you just like it for looks.</td>\n",
       "      <td>Cute!</td>\n",
       "      <td>13</td>\n",
       "      <td>liked cute studs fall easily protect phone would not recommended buy like looks</td>\n",
       "      <td>cute studs</td>\n",
       "    </tr>\n",
       "  </tbody>\n",
       "</table>\n",
       "</div>"
      ],
      "text/plain": [
       "   overall  \\\n",
       "0  5.0       \n",
       "1  5.0       \n",
       "2  3.0       \n",
       "3  2.0       \n",
       "4  4.0       \n",
       "\n",
       "                                                                                                                                                                                                                                                                        reviewText  \\\n",
       "0  Looks even better in person. Be careful to not drop your phone so often because the rhinestones will fall off (duh). More of a decorative case than it is protective, but I will say that it fits perfectly and securely on my phone. Overall, very pleased with this purchase.   \n",
       "1  When you don't want to spend a whole lot of cash but want a great deal...this is the shop to buy from!                                                                                                                                                                            \n",
       "2  so the case came on time, i love the design. I'm actually missing 2 studs but nothing too noticeable the studding is almost a bit sloppy around the bow, but once again not too noticeable. I haven't put in my phone yet so this is just what I've notice so far                 \n",
       "3  DON'T CARE FOR IT.  GAVE IT AS A GIFT AND THEY WERE OKAY WITH IT.  JUST NOT WHAT I EXPECTED.                                                                                                                                                                                      \n",
       "4  I liked it because it was cute, but the studs fall off easily and to protect a phone this would not be recommended. Buy if you just like it for looks.                                                                                                                            \n",
       "\n",
       "                               summary  reviewlen  \\\n",
       "0  Can't stop won't stop looking at it  23          \n",
       "1  1                                    11          \n",
       "2  Its okay                             24          \n",
       "3  CASE                                 7           \n",
       "4  Cute!                                13          \n",
       "\n",
       "                                                                                                                                                           cleanrev  \\\n",
       "0  looks even better person careful not drop phone often rhinestones fall duh decorative case protective say fits perfectly securely phone overall pleased purchase   \n",
       "1  not want spend whole lot cash want great deal shop buy                                                                                                             \n",
       "2  case came time love design actually missing studs nothing noticeable studding almost bit sloppy around bow not noticeable not put phone yet notice far             \n",
       "3  not care gave gift okay not expected                                                                                                                               \n",
       "4  liked cute studs fall easily protect phone would not recommended buy like looks                                                                                    \n",
       "\n",
       "                                            adjreview  \n",
       "0  careful more decorative protective overall pleased  \n",
       "1  whole great                                         \n",
       "2  noticeable sloppy noticeable                        \n",
       "3                                                      \n",
       "4  cute studs                                          "
      ]
     },
     "execution_count": 28,
     "metadata": {},
     "output_type": "execute_result"
    }
   ],
   "source": [
    "df_new = df.iloc[:200000]\n",
    "\n",
    "tmp = list()\n",
    "for i in range(200000):\n",
    "    tmp.append(cleanme(df_new.iloc[i,:]['reviewText']))\n",
    "tmp = pd.DataFrame(tmp)\n",
    "tmp.columns = ['reviewlen', 'cleanrev', 'adjreview']\n",
    "\n",
    "(tmp.head())\n",
    "\n",
    "\n",
    "df_new = df_new.reset_index()\n",
    "# df_negative_reviews_new.drop(['reviewlen', 'cleanrev', 'adjreview'], axis=1, inplace=True)\n",
    "df_new = pd.concat([df_new,tmp], axis=1)\n",
    "df_new = df_new[['overall','reviewText','summary','reviewlen', 'cleanrev', 'adjreview']]\n",
    "df_new.head()"
   ]
  },
  {
   "cell_type": "code",
   "execution_count": 159,
   "metadata": {
    "scrolled": false
   },
   "outputs": [
    {
     "data": {
      "text/html": [
       "<div>\n",
       "<style scoped>\n",
       "    .dataframe tbody tr th:only-of-type {\n",
       "        vertical-align: middle;\n",
       "    }\n",
       "\n",
       "    .dataframe tbody tr th {\n",
       "        vertical-align: top;\n",
       "    }\n",
       "\n",
       "    .dataframe thead th {\n",
       "        text-align: right;\n",
       "    }\n",
       "</style>\n",
       "<table border=\"1\" class=\"dataframe\">\n",
       "  <thead>\n",
       "    <tr style=\"text-align: right;\">\n",
       "      <th></th>\n",
       "      <th>overall_rating</th>\n",
       "      <th>reviewText</th>\n",
       "      <th>summary</th>\n",
       "      <th>cleanReviewLength</th>\n",
       "      <th>cleanReview</th>\n",
       "      <th>adjectives</th>\n",
       "      <th>polarity</th>\n",
       "    </tr>\n",
       "  </thead>\n",
       "  <tbody>\n",
       "    <tr>\n",
       "      <th>0</th>\n",
       "      <td>5.0</td>\n",
       "      <td>Looks even better in person. Be careful to not drop your phone so often because the rhinestones will fall off (duh). More of a decorative case than it is protective, but I will say that it fits perfectly and securely on my phone. Overall, very pleased with this purchase.</td>\n",
       "      <td>Can't stop won't stop looking at it</td>\n",
       "      <td>23</td>\n",
       "      <td>looks even better person careful not drop phone often rhinestones fall duh decorative case protective say fits perfectly securely phone overall pleased purchase</td>\n",
       "      <td>careful more decorative protective overall pleased</td>\n",
       "      <td>0.331250</td>\n",
       "    </tr>\n",
       "    <tr>\n",
       "      <th>1</th>\n",
       "      <td>5.0</td>\n",
       "      <td>When you don't want to spend a whole lot of cash but want a great deal...this is the shop to buy from!</td>\n",
       "      <td>1</td>\n",
       "      <td>11</td>\n",
       "      <td>not want spend whole lot cash want great deal shop buy</td>\n",
       "      <td>whole great</td>\n",
       "      <td>0.600000</td>\n",
       "    </tr>\n",
       "    <tr>\n",
       "      <th>2</th>\n",
       "      <td>3.0</td>\n",
       "      <td>so the case came on time, i love the design. I'm actually missing 2 studs but nothing too noticeable the studding is almost a bit sloppy around the bow, but once again not too noticeable. I haven't put in my phone yet so this is just what I've notice so far</td>\n",
       "      <td>Its okay</td>\n",
       "      <td>24</td>\n",
       "      <td>case came time love design actually missing studs nothing noticeable studding almost bit sloppy around bow not noticeable not put phone yet notice far</td>\n",
       "      <td>noticeable sloppy noticeable</td>\n",
       "      <td>-0.004167</td>\n",
       "    </tr>\n",
       "    <tr>\n",
       "      <th>3</th>\n",
       "      <td>2.0</td>\n",
       "      <td>DON'T CARE FOR IT.  GAVE IT AS A GIFT AND THEY WERE OKAY WITH IT.  JUST NOT WHAT I EXPECTED.</td>\n",
       "      <td>CASE</td>\n",
       "      <td>7</td>\n",
       "      <td>not care gave gift okay not expected</td>\n",
       "      <td></td>\n",
       "      <td>0.200000</td>\n",
       "    </tr>\n",
       "    <tr>\n",
       "      <th>4</th>\n",
       "      <td>4.0</td>\n",
       "      <td>I liked it because it was cute, but the studs fall off easily and to protect a phone this would not be recommended. Buy if you just like it for looks.</td>\n",
       "      <td>Cute!</td>\n",
       "      <td>13</td>\n",
       "      <td>liked cute studs fall easily protect phone would not recommended buy like looks</td>\n",
       "      <td>cute studs</td>\n",
       "      <td>0.511111</td>\n",
       "    </tr>\n",
       "  </tbody>\n",
       "</table>\n",
       "</div>"
      ],
      "text/plain": [
       "   overall_rating  \\\n",
       "0  5.0              \n",
       "1  5.0              \n",
       "2  3.0              \n",
       "3  2.0              \n",
       "4  4.0              \n",
       "\n",
       "                                                                                                                                                                                                                                                                        reviewText  \\\n",
       "0  Looks even better in person. Be careful to not drop your phone so often because the rhinestones will fall off (duh). More of a decorative case than it is protective, but I will say that it fits perfectly and securely on my phone. Overall, very pleased with this purchase.   \n",
       "1  When you don't want to spend a whole lot of cash but want a great deal...this is the shop to buy from!                                                                                                                                                                            \n",
       "2  so the case came on time, i love the design. I'm actually missing 2 studs but nothing too noticeable the studding is almost a bit sloppy around the bow, but once again not too noticeable. I haven't put in my phone yet so this is just what I've notice so far                 \n",
       "3  DON'T CARE FOR IT.  GAVE IT AS A GIFT AND THEY WERE OKAY WITH IT.  JUST NOT WHAT I EXPECTED.                                                                                                                                                                                      \n",
       "4  I liked it because it was cute, but the studs fall off easily and to protect a phone this would not be recommended. Buy if you just like it for looks.                                                                                                                            \n",
       "\n",
       "                               summary  cleanReviewLength  \\\n",
       "0  Can't stop won't stop looking at it  23                  \n",
       "1  1                                    11                  \n",
       "2  Its okay                             24                  \n",
       "3  CASE                                 7                   \n",
       "4  Cute!                                13                  \n",
       "\n",
       "                                                                                                                                                        cleanReview  \\\n",
       "0  looks even better person careful not drop phone often rhinestones fall duh decorative case protective say fits perfectly securely phone overall pleased purchase   \n",
       "1  not want spend whole lot cash want great deal shop buy                                                                                                             \n",
       "2  case came time love design actually missing studs nothing noticeable studding almost bit sloppy around bow not noticeable not put phone yet notice far             \n",
       "3  not care gave gift okay not expected                                                                                                                               \n",
       "4  liked cute studs fall easily protect phone would not recommended buy like looks                                                                                    \n",
       "\n",
       "                                           adjectives  polarity  \n",
       "0  careful more decorative protective overall pleased  0.331250  \n",
       "1  whole great                                         0.600000  \n",
       "2  noticeable sloppy noticeable                       -0.004167  \n",
       "3                                                      0.200000  \n",
       "4  cute studs                                          0.511111  "
      ]
     },
     "execution_count": 159,
     "metadata": {},
     "output_type": "execute_result"
    }
   ],
   "source": [
    "df_new.columns = ['overall','reviewText','summary','cleanReviewLength', 'cleanReview', 'adjectives']\n",
    "df_new.head()"
   ]
  },
  {
   "cell_type": "markdown",
   "metadata": {},
   "source": [
    "## Calculate Polarity of Reviews"
   ]
  },
  {
   "cell_type": "code",
   "execution_count": 130,
   "metadata": {
    "scrolled": false
   },
   "outputs": [
    {
     "data": {
      "text/html": [
       "<div>\n",
       "<style scoped>\n",
       "    .dataframe tbody tr th:only-of-type {\n",
       "        vertical-align: middle;\n",
       "    }\n",
       "\n",
       "    .dataframe tbody tr th {\n",
       "        vertical-align: top;\n",
       "    }\n",
       "\n",
       "    .dataframe thead th {\n",
       "        text-align: right;\n",
       "    }\n",
       "</style>\n",
       "<table border=\"1\" class=\"dataframe\">\n",
       "  <thead>\n",
       "    <tr style=\"text-align: right;\">\n",
       "      <th></th>\n",
       "      <th>overall_rating</th>\n",
       "      <th>reviewText</th>\n",
       "      <th>summary</th>\n",
       "      <th>cleanReviewLength</th>\n",
       "      <th>cleanReview</th>\n",
       "      <th>adjectives</th>\n",
       "      <th>polarity</th>\n",
       "    </tr>\n",
       "  </thead>\n",
       "  <tbody>\n",
       "    <tr>\n",
       "      <th>1</th>\n",
       "      <td>5.0</td>\n",
       "      <td>When you don't want to spend a whole lot of cash but want a great deal...this is the shop to buy from!</td>\n",
       "      <td>1</td>\n",
       "      <td>11</td>\n",
       "      <td>not want spend whole lot cash want great deal shop buy</td>\n",
       "      <td>whole great</td>\n",
       "      <td>0.600000</td>\n",
       "    </tr>\n",
       "    <tr>\n",
       "      <th>2</th>\n",
       "      <td>3.0</td>\n",
       "      <td>so the case came on time, i love the design. I'm actually missing 2 studs but nothing too noticeable the studding is almost a bit sloppy around the bow, but once again not too noticeable. I haven't put in my phone yet so this is just what I've notice so far</td>\n",
       "      <td>Its okay</td>\n",
       "      <td>24</td>\n",
       "      <td>case came time love design actually missing studs nothing noticeable studding almost bit sloppy around bow not noticeable not put phone yet notice far</td>\n",
       "      <td>noticeable sloppy noticeable</td>\n",
       "      <td>-0.004167</td>\n",
       "    </tr>\n",
       "    <tr>\n",
       "      <th>3</th>\n",
       "      <td>2.0</td>\n",
       "      <td>DON'T CARE FOR IT.  GAVE IT AS A GIFT AND THEY WERE OKAY WITH IT.  JUST NOT WHAT I EXPECTED.</td>\n",
       "      <td>CASE</td>\n",
       "      <td>7</td>\n",
       "      <td>not care gave gift okay not expected</td>\n",
       "      <td></td>\n",
       "      <td>0.200000</td>\n",
       "    </tr>\n",
       "    <tr>\n",
       "      <th>4</th>\n",
       "      <td>4.0</td>\n",
       "      <td>I liked it because it was cute, but the studs fall off easily and to protect a phone this would not be recommended. Buy if you just like it for looks.</td>\n",
       "      <td>Cute!</td>\n",
       "      <td>13</td>\n",
       "      <td>liked cute studs fall easily protect phone would not recommended buy like looks</td>\n",
       "      <td>cute studs</td>\n",
       "      <td>0.511111</td>\n",
       "    </tr>\n",
       "    <tr>\n",
       "      <th>5</th>\n",
       "      <td>2.0</td>\n",
       "      <td>The product looked exactly like the picture and it was very nice. However only days later it fell apart. I'm very disappointed with the quality of the product.</td>\n",
       "      <td>Not so happy</td>\n",
       "      <td>14</td>\n",
       "      <td>product looked exactly like picture nice however days later fell apart disappointed quality product</td>\n",
       "      <td>nice disappointed</td>\n",
       "      <td>0.011000</td>\n",
       "    </tr>\n",
       "    <tr>\n",
       "      <th>6</th>\n",
       "      <td>3.0</td>\n",
       "      <td>I FINALLY got my case today. It took forever to get here! It's cute and looks just like the pic. Like right after I wrote this review some of the rhinestones started falling off. The package does come with glue to glue them back on but in my opinion this case is only good for a couple of days (if that.) I wouldn't purchase another. Thanks you</td>\n",
       "      <td>It's cute!</td>\n",
       "      <td>33</td>\n",
       "      <td>finally got case today took forever get cute looks like pic like right wrote review rhinestones started falling package come glue glue back opinion case good couple days would not purchase another thanks</td>\n",
       "      <td>cute good</td>\n",
       "      <td>0.240816</td>\n",
       "    </tr>\n",
       "    <tr>\n",
       "      <th>7</th>\n",
       "      <td>5.0</td>\n",
       "      <td>It is a very cute case. None of the jewels have fallen off and the bow is glued on very well. Came in the time frame that was given and I'm happy with this purchase. The only thing you might want to know is, I carry my phone in my jeans and it does fit very tightly because it is a big bow. You have to be careful but worth it.</td>\n",
       "      <td>Cute case</td>\n",
       "      <td>27</td>\n",
       "      <td>cute case none jewels fallen bow glued well came time frame given happy purchase thing might want know carry phone jeans fit tightly big bow careful worth</td>\n",
       "      <td>cute happy only fit big careful worth</td>\n",
       "      <td>0.224206</td>\n",
       "    </tr>\n",
       "    <tr>\n",
       "      <th>8</th>\n",
       "      <td>1.0</td>\n",
       "      <td>DO NOT BUY! this item is seriously cheap as heck. not worth buying it at all. I didn't even get to use it and it was already losing all of its gems. I wish I got my money back on this item!!</td>\n",
       "      <td>WORST ITEM!</td>\n",
       "      <td>21</td>\n",
       "      <td>not buy item seriously cheap heck not worth buying not even get use already losing gems wish got money back item</td>\n",
       "      <td>cheap worth wish</td>\n",
       "      <td>0.083333</td>\n",
       "    </tr>\n",
       "    <tr>\n",
       "      <th>9</th>\n",
       "      <td>4.0</td>\n",
       "      <td>I really love this case... you have to keep your phone face down all the time, but it's pretty good quality. Some stones come off from normal use, unless you keep it in your purse all day.</td>\n",
       "      <td>Pretty Cute!</td>\n",
       "      <td>18</td>\n",
       "      <td>really love case keep phone face time pretty good quality stones come normal use unless keep purse day</td>\n",
       "      <td>good normal</td>\n",
       "      <td>0.288889</td>\n",
       "    </tr>\n",
       "  </tbody>\n",
       "</table>\n",
       "</div>"
      ],
      "text/plain": [
       "   overall_rating  \\\n",
       "1  5.0              \n",
       "2  3.0              \n",
       "3  2.0              \n",
       "4  4.0              \n",
       "5  2.0              \n",
       "6  3.0              \n",
       "7  5.0              \n",
       "8  1.0              \n",
       "9  4.0              \n",
       "\n",
       "                                                                                                                                                                                                                                                                                                                                                 reviewText  \\\n",
       "1  When you don't want to spend a whole lot of cash but want a great deal...this is the shop to buy from!                                                                                                                                                                                                                                                     \n",
       "2  so the case came on time, i love the design. I'm actually missing 2 studs but nothing too noticeable the studding is almost a bit sloppy around the bow, but once again not too noticeable. I haven't put in my phone yet so this is just what I've notice so far                                                                                          \n",
       "3  DON'T CARE FOR IT.  GAVE IT AS A GIFT AND THEY WERE OKAY WITH IT.  JUST NOT WHAT I EXPECTED.                                                                                                                                                                                                                                                               \n",
       "4  I liked it because it was cute, but the studs fall off easily and to protect a phone this would not be recommended. Buy if you just like it for looks.                                                                                                                                                                                                     \n",
       "5  The product looked exactly like the picture and it was very nice. However only days later it fell apart. I'm very disappointed with the quality of the product.                                                                                                                                                                                            \n",
       "6  I FINALLY got my case today. It took forever to get here! It's cute and looks just like the pic. Like right after I wrote this review some of the rhinestones started falling off. The package does come with glue to glue them back on but in my opinion this case is only good for a couple of days (if that.) I wouldn't purchase another. Thanks you   \n",
       "7  It is a very cute case. None of the jewels have fallen off and the bow is glued on very well. Came in the time frame that was given and I'm happy with this purchase. The only thing you might want to know is, I carry my phone in my jeans and it does fit very tightly because it is a big bow. You have to be careful but worth it.                    \n",
       "8  DO NOT BUY! this item is seriously cheap as heck. not worth buying it at all. I didn't even get to use it and it was already losing all of its gems. I wish I got my money back on this item!!                                                                                                                                                             \n",
       "9  I really love this case... you have to keep your phone face down all the time, but it's pretty good quality. Some stones come off from normal use, unless you keep it in your purse all day.                                                                                                                                                               \n",
       "\n",
       "        summary  cleanReviewLength  \\\n",
       "1  1             11                  \n",
       "2  Its okay      24                  \n",
       "3  CASE          7                   \n",
       "4  Cute!         13                  \n",
       "5  Not so happy  14                  \n",
       "6  It's cute!    33                  \n",
       "7  Cute case     27                  \n",
       "8  WORST ITEM!   21                  \n",
       "9  Pretty Cute!  18                  \n",
       "\n",
       "                                                                                                                                                                                                   cleanReview  \\\n",
       "1  not want spend whole lot cash want great deal shop buy                                                                                                                                                        \n",
       "2  case came time love design actually missing studs nothing noticeable studding almost bit sloppy around bow not noticeable not put phone yet notice far                                                        \n",
       "3  not care gave gift okay not expected                                                                                                                                                                          \n",
       "4  liked cute studs fall easily protect phone would not recommended buy like looks                                                                                                                               \n",
       "5  product looked exactly like picture nice however days later fell apart disappointed quality product                                                                                                           \n",
       "6  finally got case today took forever get cute looks like pic like right wrote review rhinestones started falling package come glue glue back opinion case good couple days would not purchase another thanks   \n",
       "7  cute case none jewels fallen bow glued well came time frame given happy purchase thing might want know carry phone jeans fit tightly big bow careful worth                                                    \n",
       "8  not buy item seriously cheap heck not worth buying not even get use already losing gems wish got money back item                                                                                              \n",
       "9  really love case keep phone face time pretty good quality stones come normal use unless keep purse day                                                                                                        \n",
       "\n",
       "                              adjectives  polarity  \n",
       "1  whole great                            0.600000  \n",
       "2  noticeable sloppy noticeable          -0.004167  \n",
       "3                                         0.200000  \n",
       "4  cute studs                             0.511111  \n",
       "5  nice disappointed                      0.011000  \n",
       "6  cute good                              0.240816  \n",
       "7  cute happy only fit big careful worth  0.224206  \n",
       "8  cheap worth wish                       0.083333  \n",
       "9  good normal                            0.288889  "
      ]
     },
     "execution_count": 130,
     "metadata": {},
     "output_type": "execute_result"
    }
   ],
   "source": [
    "from textblob import TextBlob, Word\n",
    "def detect_polarity(text):\n",
    "    return TextBlob(text).sentiment.polarity\n",
    "\n",
    "df_new['polarity'] = df_new.reviewText.apply(detect_polarity)\n",
    "df_new[1:10]"
   ]
  },
  {
   "cell_type": "markdown",
   "metadata": {},
   "source": [
    "## Naive Bayes Multi-Class Classifier"
   ]
  },
  {
   "cell_type": "code",
   "execution_count": 101,
   "metadata": {},
   "outputs": [],
   "source": [
    "from sklearn.pipeline import Pipeline, make_pipeline\n",
    "from sklearn.feature_extraction.text import TfidfVectorizer\n",
    "from sklearn.base import BaseEstimator, ClassifierMixin\n",
    "from sklearn.linear_model import LogisticRegression\n",
    "from sklearn.model_selection import cross_val_score\n",
    "from sklearn import metrics\n",
    "from sklearn.metrics import roc_auc_score\n",
    "from sklearn.model_selection import train_test_split\n",
    "import numpy as np\n",
    "from scipy import sparse\n",
    "\n",
    "tfidf = TfidfVectorizer(sublinear_tf=False, max_features = 10000, min_df=5,max_df=0.60,ngram_range= (1,2))"
   ]
  },
  {
   "cell_type": "code",
   "execution_count": 102,
   "metadata": {},
   "outputs": [
    {
     "data": {
      "text/plain": [
       "((40000, 6), (10000, 6))"
      ]
     },
     "execution_count": 102,
     "metadata": {},
     "output_type": "execute_result"
    },
    {
     "data": {
      "image/png": "[encoded data removed]",
      "text/plain": [
       "<Figure size 432x288 with 1 Axes>"
      ]
     },
     "metadata": {
      "needs_background": "light"
     },
     "output_type": "display_data"
    }
   ],
   "source": [
    "\n",
    "review_df = pd.concat([df_new[df_new['overall']==1.0].sample(n=10000),df_new[df_new['overall']==2.0].sample(n=10000),\n",
    "                    df_new[df_new['overall']==3.0].sample(n=10000),df_new[df_new['overall']==4.0].sample(n=10000),\n",
    "                    df_new[df_new['overall']==5.0].sample(n=10000)])\n",
    "review_df = review_df[['cleanReview','overall']]\n",
    "train, test = train_test_split(review_df, test_size=0.2)\n",
    "\n",
    "train['overall'].hist();\n",
    "test['overall'].hist();\n",
    "\n",
    "train = pd.get_dummies(train, columns = ['overall'])\n",
    "train.head()\n",
    "\n",
    "test = pd.get_dummies(test, columns = ['overall'])\n",
    "test.head()\n",
    "\n",
    "train.shape, test.shape\n"
   ]
  },
  {
   "cell_type": "code",
   "execution_count": 103,
   "metadata": {},
   "outputs": [],
   "source": [
    "class NBFeatures(BaseEstimator):\n",
    "    '''Class implementation of Jeremy Howards NB Linear model'''\n",
    "    def __init__(self, alpha):\n",
    "        # Smoothing Parameter: always going to be one for my use\n",
    "        self.alpha = alpha\n",
    "        \n",
    "    def preprocess_x(self, x, r):\n",
    "        return x.multiply(r)\n",
    "    \n",
    "    # calculate probabilities\n",
    "    def pr(self, x, y_i, y):\n",
    "        p = x[y == y_i].sum(0)\n",
    "        return (p + self.alpha)/((y==y_i).sum()+self.alpha)\n",
    "    \n",
    "    # calculate the log ratio and represent as sparse matrix\n",
    "    # ie fit the nb model\n",
    "    def fit(self, x, y = None):\n",
    "        self._r = sparse.csr_matrix(np.log(self.pr(x, 1, y) /self.pr(x, 0, y)))\n",
    "        return self\n",
    "    \n",
    "    # apply the nb fit to original features x\n",
    "    def transform(self, x):\n",
    "        x_nb = self.preprocess_x(x, self._r)\n",
    "        return x_nb"
   ]
  },
  {
   "cell_type": "code",
   "execution_count": 104,
   "metadata": {},
   "outputs": [],
   "source": [
    "# Create pipeline using sklearn pipeline:\n",
    "    # I basically create my tfidf features which are fed to my NB model \n",
    "    # for probability calculations. Then those are fed as input to my \n",
    "    # logistic regression model.\n",
    "lr = LogisticRegression()\n",
    "nb = NBFeatures(1)\n",
    "p = Pipeline([\n",
    "    ('tfidf', tfidf),\n",
    "    ('nb', nb),\n",
    "    ('lr', lr)\n",
    "])"
   ]
  },
  {
   "cell_type": "code",
   "execution_count": 105,
   "metadata": {},
   "outputs": [
    {
     "name": "stdout",
     "output_type": "stream",
     "text": [
      "CV score for class overall_1.0 is 0.8514749991893641\n",
      "CV score for class overall_2.0 is 0.7940000678658036\n",
      "CV score for class overall_3.0 is 0.7977499722478812\n",
      "CV score for class overall_4.0 is 0.8018499997523186\n",
      "CV score for class overall_5.0 is 0.8517000160642234\n"
     ]
    }
   ],
   "source": [
    "class_names = ['overall_1.0', 'overall_2.0','overall_3.0','overall_4.0','overall_5.0']\n",
    "scores = []\n",
    "preds = np.zeros((len(test), len(class_names)))\n",
    "for i, class_name in enumerate(class_names):\n",
    "    train_target = train[class_name]    \n",
    "    cv_score = np.mean(cross_val_score(estimator = p, X = train['cleanReview'].values, \n",
    "                                      y = train_target, cv = 3, scoring = 'accuracy'))\n",
    "    scores.append(cv_score)\n",
    "    print('CV score for class {} is {}'.format(class_name, cv_score))\n",
    "    p.fit(train['cleanReview'].values, train_target)\n",
    "    preds[:,i] = p.predict_proba(test['cleanReview'].values)[:,1]"
   ]
  },
  {
   "cell_type": "code",
   "execution_count": 106,
   "metadata": {},
   "outputs": [
    {
     "name": "stdout",
     "output_type": "stream",
     "text": [
      "              precision    recall  f1-score   support\n",
      "\n",
      "           0       0.57      0.64      0.60      2071\n",
      "           1       0.40      0.37      0.38      1995\n",
      "           2       0.38      0.34      0.36      1983\n",
      "           3       0.44      0.40      0.42      1980\n",
      "           4       0.57      0.67      0.62      1971\n",
      "\n",
      "    accuracy                           0.48     10000\n",
      "   macro avg       0.47      0.48      0.48     10000\n",
      "weighted avg       0.47      0.48      0.48     10000\n",
      "\n"
     ]
    }
   ],
   "source": [
    "t = metrics.classification_report(np.argmax(test[class_names].values, axis = 1),np.argmax(preds, axis = 1))\n",
    "print(t)"
   ]
  },
  {
   "cell_type": "markdown",
   "metadata": {},
   "source": [
    "## Some Analysis"
   ]
  },
  {
   "cell_type": "code",
   "execution_count": 186,
   "metadata": {
    "scrolled": false
   },
   "outputs": [
    {
     "name": "stdout",
     "output_type": "stream",
     "text": [
      "5.0    115702\n",
      "4.0    36215 \n",
      "3.0    20788 \n",
      "1.0    15830 \n",
      "2.0    11465 \n",
      "Name: overall_rating, dtype: int64\n"
     ]
    },
    {
     "data": {
      "image/png": "[encoded data removed]",
      "text/plain": [
       "<Figure size 576x360 with 1 Axes>"
      ]
     },
     "metadata": {},
     "output_type": "display_data"
    }
   ],
   "source": [
    "df_new=df_new.rename(columns = {'overall':'overall_rating'})\n",
    "print(df_new['overall_rating'].value_counts())\n",
    "sns.set(style='whitegrid', palette=\"deep\", font_scale=1.1, rc={\"figure.figsize\": [8, 5]})\n",
    "sns.distplot(\n",
    "    (df_new['overall_rating']), norm_hist=False, kde=False, bins=20, hist_kws={\"alpha\": 1}\n",
    ").set(xlabel='Overall Rating', ylabel='Count');"
   ]
  },
  {
   "cell_type": "code",
   "execution_count": 187,
   "metadata": {
    "scrolled": false
   },
   "outputs": [
    {
     "name": "stdout",
     "output_type": "stream",
     "text": [
      "   overall_rating  cleanReviewLength\n",
      "0  1.0             30.522091        \n",
      "1  2.0             37.586418        \n",
      "2  3.0             34.564620        \n",
      "3  4.0             38.774612        \n",
      "4  5.0             25.417610        \n",
      "   overall_rating  polarity\n",
      "0  1.0             0.009891\n",
      "1  2.0             0.097770\n",
      "2  3.0             0.188911\n",
      "3  4.0             0.272849\n",
      "4  5.0             0.388435\n"
     ]
    },
    {
     "data": {
      "image/png": "[encoded data removed]",
      "text/plain": [
       "<Figure size 576x360 with 1 Axes>"
      ]
     },
     "metadata": {},
     "output_type": "display_data"
    }
   ],
   "source": [
    "df_res = df_new[df_new['cleanReviewLength']>0]\n",
    "print(df_res.groupby('overall_rating', as_index=False)['cleanReviewLength'].mean())\n",
    "print(df_res.groupby('overall_rating', as_index=False)['polarity'].mean())\n",
    "\n",
    "sns.set(style='whitegrid', palette=\"deep\", font_scale=1.1, rc={\"figure.figsize\": [8, 5]})\n",
    "sns.distplot(\n",
    "    (df_res['cleanReviewLength']), norm_hist=False, kde=False, bins=20, hist_kws={\"alpha\": 1}\n",
    ").set(xlabel='Review Length', ylabel='Count');"
   ]
  },
  {
   "cell_type": "markdown",
   "metadata": {},
   "source": [
    "## Some Other Multi-Class Classifier Models which also takes into account Review Length and Polarity"
   ]
  },
  {
   "cell_type": "code",
   "execution_count": 188,
   "metadata": {},
   "outputs": [
    {
     "data": {
      "text/plain": [
       "5.0    8856\n",
       "1.0    8497\n",
       "3.0    8122\n",
       "4.0    7992\n",
       "2.0    7927\n",
       "Name: overall_rating, dtype: int64"
      ]
     },
     "execution_count": 188,
     "metadata": {},
     "output_type": "execute_result"
    }
   ],
   "source": [
    "df_res = pd.concat([df_new[df_new['overall_rating']==1.0].sample(n=10000),df_new[df_new['overall_rating']==2.0].sample(n=10000),\n",
    "                    df_new[df_new['overall_rating']==3.0].sample(n=10000),df_new[df_new['overall_rating']==4.0].sample(n=10000),\n",
    "                    df_new[df_new['overall_rating']==5.0].sample(n=10000)])\n",
    "df_res = df_res[df_res['cleanReviewLength']<50]\n",
    "df_res['overall_rating'].value_counts()"
   ]
  },
  {
   "cell_type": "code",
   "execution_count": 189,
   "metadata": {},
   "outputs": [],
   "source": [
    "\n",
    "\n",
    "df_100 = df_res.copy()\n",
    "\n",
    "v = TfidfVectorizer(max_features = 10000, min_df=5,max_df=0.60)\n",
    "x = v.fit_transform(df_100['cleanReview'])\n",
    "\n",
    "\n",
    "df1 = pd.DataFrame(x.toarray(), columns=v.get_feature_names())\n",
    "df_100 = df_100.drop('cleanReview', axis=1)\n",
    "\n",
    "df_100.reset_index(drop=True, inplace=True)\n",
    "df1.reset_index(drop=True, inplace=True)\n",
    "# print(df_100)\n",
    "res = pd.concat([df_100, df1], axis=1)\n"
   ]
  },
  {
   "cell_type": "code",
   "execution_count": 193,
   "metadata": {},
   "outputs": [
    {
     "data": {
      "text/plain": [
       "((41394, 5670), (41394, 1))"
      ]
     },
     "execution_count": 193,
     "metadata": {},
     "output_type": "execute_result"
    }
   ],
   "source": [
    "res1 = res[res.columns.difference(['reviewText','summary', 'adjectives', 'overall_rating'])]\n",
    "normalized_res1 = res1\n",
    "normalized_res1['cleanReviewLength']= (normalized_res1['cleanReviewLength']-normalized_res1['cleanReviewLength'].min())/(normalized_res1['cleanReviewLength'].max()-normalized_res1['cleanReviewLength'].min())\n",
    "normalized_res1['polarity']= (normalized_res1['polarity']-normalized_res1['polarity'].min())/(normalized_res1['polarity'].max()-normalized_res1['polarity'].min())\n",
    "# normalized_res1=(res1-res1.min())/(res1.max()-res1.min())\n",
    "# print(normalized_res1.head(100))\n",
    "y = res['overall_rating'].values.reshape(-1,1)\n",
    "\n",
    "res1.shape, y.shape\n",
    "\n",
    "# y = res['rating']\n",
    "# len(y)"
   ]
  },
  {
   "cell_type": "markdown",
   "metadata": {},
   "source": [
    "## Logistic Regression Classifier"
   ]
  },
  {
   "cell_type": "code",
   "execution_count": 194,
   "metadata": {
    "scrolled": false
   },
   "outputs": [
    {
     "name": "stdout",
     "output_type": "stream",
     "text": [
      "Multinomial Logistic regression Train Accuracy ::  0.6179374905631889\n",
      "Multinomial Logistic regression Test Accuracy ::  0.4860490397390989\n"
     ]
    },
    {
     "data": {
      "text/plain": [
       "Text(0.5, 257.44, 'Predicted label')"
      ]
     },
     "execution_count": 194,
     "metadata": {},
     "output_type": "execute_result"
    },
    {
     "data": {
      "image/png": "[encoded data removed]",
      "text/plain": [
       "<Figure size 432x288 with 2 Axes>"
      ]
     },
     "metadata": {
      "needs_background": "light"
     },
     "output_type": "display_data"
    }
   ],
   "source": [
    "from sklearn.model_selection import train_test_split\n",
    "from sklearn.linear_model import LinearRegression\n",
    "from sklearn import linear_model\n",
    "from sklearn import metrics\n",
    "import seaborn as sns\n",
    "import matplotlib.pyplot as plt\n",
    "%matplotlib inline\n",
    "\n",
    "X_train, X_test, y_train, y_test = train_test_split(normalized_res1, y, test_size=0.2, random_state= 51)\n",
    "lr = linear_model.LogisticRegression(multi_class='multinomial', solver='newton-cg').fit(X_train,y_train)\n",
    "\n",
    "print (\"Multinomial Logistic regression Train Accuracy :: \", metrics.accuracy_score(y_train, lr.predict(X_train)))\n",
    "print (\"Multinomial Logistic regression Test Accuracy :: \", metrics.accuracy_score(y_test, lr.predict(X_test)))\n",
    "\n",
    "cnf_matrix = metrics.confusion_matrix(y_test, lr.predict(X_test))\n",
    "\n",
    "\n",
    "class_names=[1,2,3,4,5] # name  of classes\n",
    "fig, ax = plt.subplots()\n",
    "# create heatmap\n",
    "sns.heatmap(pd.DataFrame(cnf_matrix), annot=True, cmap=\"YlGnBu\" ,fmt='g')\n",
    "ax.xaxis.set_label_position(\"top\")\n",
    "ax.xaxis.set_ticklabels(class_names)\n",
    "ax.yaxis.set_ticklabels(class_names)\n",
    "plt.tight_layout()\n",
    "plt.title('Confusion matrix', y=1.1)\n",
    "plt.ylabel('Actual label')\n",
    "plt.xlabel('Predicted label')"
   ]
  },
  {
   "cell_type": "markdown",
   "metadata": {},
   "source": [
    "## KNN Classifier"
   ]
  },
  {
   "cell_type": "code",
   "execution_count": 155,
   "metadata": {},
   "outputs": [
    {
     "name": "stdout",
     "output_type": "stream",
     "text": [
      "0.31576402321083175\n"
     ]
    },
    {
     "data": {
      "text/plain": [
       "Text(0.5, 257.44, 'Predicted label')"
      ]
     },
     "execution_count": 155,
     "metadata": {},
     "output_type": "execute_result"
    },
    {
     "data": {
      "image/png": "[encoded data removed]",
      "text/plain": [
       "<Figure size 432x288 with 2 Axes>"
      ]
     },
     "metadata": {
      "needs_background": "light"
     },
     "output_type": "display_data"
    }
   ],
   "source": [
    "from sklearn.model_selection import train_test_split\n",
    "from sklearn import linear_model\n",
    "from sklearn import metrics\n",
    "import seaborn as sns\n",
    "from sklearn.neighbors import KNeighborsClassifier \n",
    "\n",
    "X_train, X_test, y_train, y_test = train_test_split(normalized_res1, y, test_size=0.2,random_state=51)\n",
    "knn = KNeighborsClassifier(n_neighbors = 100).fit(X_train, y_train)\n",
    "\n",
    "accuracy = knn.score(X_test, y_test) \n",
    "print (accuracy)\n",
    "  \n",
    "# creating a confusion matrix \n",
    "knn_predictions = knn.predict(X_test)  \n",
    "cnf_matrix = metrics.confusion_matrix(y_test, knn_predictions) \n",
    "\n",
    "class_names=[1,2,3,4,5] # name  of classes\n",
    "fig, ax = plt.subplots()\n",
    "# create heatmap\n",
    "sns.heatmap(pd.DataFrame(cnf_matrix), annot=True, cmap=\"YlGnBu\" ,fmt='g')\n",
    "ax.xaxis.set_label_position(\"top\")\n",
    "ax.xaxis.set_ticklabels(class_names)\n",
    "ax.yaxis.set_ticklabels(class_names)\n",
    "plt.tight_layout()\n",
    "plt.title('Confusion matrix', y=1.1)\n",
    "plt.ylabel('Actual label')\n",
    "plt.xlabel('Predicted label')"
   ]
  },
  {
   "cell_type": "markdown",
   "metadata": {},
   "source": [
    "## SVM Linear Classifier"
   ]
  },
  {
   "cell_type": "code",
   "execution_count": 197,
   "metadata": {},
   "outputs": [
    {
     "name": "stdout",
     "output_type": "stream",
     "text": [
      "Multinomial SVM Train Accuracy ::  0.6658915899139363\n",
      "Multinomial SVM Test Accuracy ::  0.4666022466481459\n"
     ]
    },
    {
     "data": {
      "text/plain": [
       "Text(0.5, 257.44, 'Predicted label')"
      ]
     },
     "execution_count": 197,
     "metadata": {},
     "output_type": "execute_result"
    },
    {
     "data": {
      "image/png": "[encoded data removed]",
      "text/plain": [
       "<Figure size 432x288 with 2 Axes>"
      ]
     },
     "metadata": {
      "needs_background": "light"
     },
     "output_type": "display_data"
    }
   ],
   "source": [
    "from sklearn.model_selection import train_test_split\n",
    "from sklearn.linear_model import LinearRegression\n",
    "from sklearn import linear_model\n",
    "from sklearn import metrics\n",
    "from sklearn.svm import SVC\n",
    "from sklearn.svm import LinearSVC\n",
    "import seaborn as sns\n",
    "\n",
    "X_train, X_test, y_train, y_test = train_test_split(normalized_res1, y, test_size=0.2, random_state=51)\n",
    "svm = LinearSVC()\n",
    "svm.fit(X_train,y_train)\n",
    "\n",
    "print (\"Multinomial SVM Train Accuracy :: \", metrics.accuracy_score(y_train, svm.predict(X_train)))\n",
    "print (\"Multinomial SVM Test Accuracy :: \", metrics.accuracy_score(y_test, svm.predict(X_test)))\n",
    "\n",
    "cnf_matrix = metrics.confusion_matrix(y_test, svm.predict(X_test))\n",
    "cnf_matrix\n",
    "\n",
    "class_names=[1,2,3,4,5] # name  of classes\n",
    "fig, ax = plt.subplots()\n",
    "# create heatmap\n",
    "sns.heatmap(pd.DataFrame(cnf_matrix), annot=True, cmap=\"YlGnBu\" ,fmt='g')\n",
    "ax.xaxis.set_label_position(\"top\")\n",
    "ax.xaxis.set_ticklabels(class_names)\n",
    "ax.yaxis.set_ticklabels(class_names)\n",
    "plt.tight_layout()\n",
    "plt.title('Confusion matrix', y=1.1)\n",
    "plt.ylabel('Actual label')\n",
    "plt.xlabel('Predicted label')"
   ]
  },
  {
   "cell_type": "code",
   "execution_count": 121,
   "metadata": {},
   "outputs": [
    {
     "name": "stdout",
     "output_type": "stream",
     "text": [
      "Multinomial Multinomial Naive Bayes Train Accuracy ::  0.58936\n",
      "Multinomial Multinomial Naive Bayes Accuracy ::  0.59168\n"
     ]
    },
    {
     "data": {
      "text/plain": [
       "Text(0.5, 257.44, 'Predicted label')"
      ]
     },
     "execution_count": 121,
     "metadata": {},
     "output_type": "execute_result"
    },
    {
     "data": {
      "image/png": "[encoded data removed]",
      "text/plain": [
       "<Figure size 432x288 with 2 Axes>"
      ]
     },
     "metadata": {
      "needs_background": "light"
     },
     "output_type": "display_data"
    }
   ],
   "source": [
    "from sklearn.model_selection import train_test_split\n",
    "from sklearn.feature_extraction.text import CountVectorizer\n",
    "from sklearn.feature_extraction.text import TfidfTransformer\n",
    "from sklearn.naive_bayes import MultinomialNB\n",
    "X_train, X_test, y_train, y_test = train_test_split(df_new['cleanReview'], df_new['overall_rating'], random_state = 101)\n",
    "count_vect = CountVectorizer()\n",
    "X_train_counts = count_vect.fit_transform(X_train)\n",
    "tfidf_transformer = TfidfTransformer()\n",
    "X_train_tfidf = tfidf_transformer.fit_transform(X_train_counts)\n",
    "clf = MultinomialNB().fit(X_train_tfidf, y_train)\n",
    "print (\"Multinomial Multinomial Naive Bayes Train Accuracy :: \", metrics.accuracy_score(y_train, clf.predict(X_train_tfidf)))\n",
    "print (\"Multinomial Multinomial Naive Bayes Accuracy :: \", metrics.accuracy_score(y_test, clf.predict(count_vect.transform(X_test))))\n",
    "\n",
    "cnf_matrix = metrics.confusion_matrix(y_test, clf.predict(count_vect.transform(X_test)))\n",
    "cnf_matrix\n",
    "\n",
    "class_names=[1,2,3,4,5] # name  of classes\n",
    "fig, ax = plt.subplots()\n",
    "# create heatmap\n",
    "sns.heatmap(pd.DataFrame(cnf_matrix), annot=True, cmap=\"YlGnBu\" ,fmt='g')\n",
    "ax.xaxis.set_label_position(\"top\")\n",
    "ax.xaxis.set_ticklabels(class_names)\n",
    "ax.yaxis.set_ticklabels(class_names)\n",
    "plt.tight_layout()\n",
    "plt.title('Confusion matrix', y=1.1)\n",
    "plt.ylabel('Actual label')\n",
    "plt.xlabel('Predicted label')"
   ]
  }
 ],
 "metadata": {
  "kernelspec": {
   "display_name": "Python 3",
   "language": "python",
   "name": "python3"
  },
  "language_info": {
   "codemirror_mode": {
    "name": "ipython",
    "version": 3
   },
   "file_extension": ".py",
   "mimetype": "text/x-python",
   "name": "python",
   "nbconvert_exporter": "python",
   "pygments_lexer": "ipython3",
   "version": "3.7.3"
  }
 },
 "nbformat": 4,
 "nbformat_minor": 2
}
